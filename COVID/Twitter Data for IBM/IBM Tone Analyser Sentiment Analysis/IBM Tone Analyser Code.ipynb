{
 "cells": [
  {
   "cell_type": "markdown",
   "metadata": {},
   "source": [
    "# Import Libraries"
   ]
  },
  {
   "cell_type": "code",
   "execution_count": 20,
   "metadata": {},
   "outputs": [],
   "source": [
    "from ibm_watson import ToneAnalyzerV3\n",
    "from ibm_cloud_sdk_core.authenticators import IAMAuthenticator\n",
    "from ibm_watson import ApiException\n",
    "import json\n",
    "import os\n",
    "import pandas as pd\n",
    "from langdetect import detect\n",
    "import random\n",
    "import re\n",
    "import time\n",
    "from sklearn.model_selection import train_test_split\n",
    "import ast"
   ]
  },
  {
   "cell_type": "markdown",
   "metadata": {},
   "source": [
    "# Reading the file"
   ]
  },
  {
   "cell_type": "code",
   "execution_count": 2,
   "metadata": {},
   "outputs": [
    {
     "name": "stdout",
     "output_type": "stream",
     "text": [
      "<class 'pandas.core.frame.DataFrame'>\n",
      "RangeIndex: 4548 entries, 0 to 4547\n",
      "Data columns (total 7 columns):\n",
      " #   Column     Non-Null Count  Dtype \n",
      "---  ------     --------------  ----- \n",
      " 0   User       4548 non-null   object\n",
      " 1   Text       4548 non-null   object\n",
      " 2   Date       4548 non-null   object\n",
      " 3   Retweets   4548 non-null   int64 \n",
      " 4   Favorites  4548 non-null   int64 \n",
      " 5   HashTags   4547 non-null   object\n",
      " 6   City       4548 non-null   object\n",
      "dtypes: int64(2), object(5)\n",
      "memory usage: 160.0+ KB\n"
     ]
    },
    {
     "data": {
      "text/html": [
       "<div>\n",
       "<style scoped>\n",
       "    .dataframe tbody tr th:only-of-type {\n",
       "        vertical-align: middle;\n",
       "    }\n",
       "\n",
       "    .dataframe tbody tr th {\n",
       "        vertical-align: top;\n",
       "    }\n",
       "\n",
       "    .dataframe thead th {\n",
       "        text-align: right;\n",
       "    }\n",
       "</style>\n",
       "<table border=\"1\" class=\"dataframe\">\n",
       "  <thead>\n",
       "    <tr style=\"text-align: right;\">\n",
       "      <th></th>\n",
       "      <th>User</th>\n",
       "      <th>Text</th>\n",
       "      <th>Date</th>\n",
       "      <th>Retweets</th>\n",
       "      <th>Favorites</th>\n",
       "      <th>HashTags</th>\n",
       "      <th>City</th>\n",
       "    </tr>\n",
       "  </thead>\n",
       "  <tbody>\n",
       "    <tr>\n",
       "      <th>0</th>\n",
       "      <td>NikhilMRoy</td>\n",
       "      <td>I am pleased to share that I have passed and c...</td>\n",
       "      <td>2020-05-02 23:42:40+00:00</td>\n",
       "      <td>0</td>\n",
       "      <td>1</td>\n",
       "      <td>#weekenddoneright #PSM #scrum #scrummaster #ac...</td>\n",
       "      <td>Mumbai</td>\n",
       "    </tr>\n",
       "    <tr>\n",
       "      <th>1</th>\n",
       "      <td>satraparth</td>\n",
       "      <td>#COVID19 lockdown has affected various sectors...</td>\n",
       "      <td>2020-05-02 20:41:13+00:00</td>\n",
       "      <td>0</td>\n",
       "      <td>0</td>\n",
       "      <td>#COVID19 #pandemic #MSME #lockdown</td>\n",
       "      <td>Mumbai</td>\n",
       "    </tr>\n",
       "    <tr>\n",
       "      <th>2</th>\n",
       "      <td>iampawannathani</td>\n",
       "      <td>#covid19 will need to be fought through, it ca...</td>\n",
       "      <td>2020-05-02 19:08:02+00:00</td>\n",
       "      <td>0</td>\n",
       "      <td>1</td>\n",
       "      <td>#covid19 #Warzone #FightAgainstCorona</td>\n",
       "      <td>Mumbai</td>\n",
       "    </tr>\n",
       "    <tr>\n",
       "      <th>3</th>\n",
       "      <td>iampawannathani</td>\n",
       "      <td>#Lockdown3 @PMOIndia If #COVID19 is here to st...</td>\n",
       "      <td>2020-05-02 19:07:59+00:00</td>\n",
       "      <td>1</td>\n",
       "      <td>3</td>\n",
       "      <td>#Lockdown3 #COVID19 #India</td>\n",
       "      <td>Mumbai</td>\n",
       "    </tr>\n",
       "    <tr>\n",
       "      <th>4</th>\n",
       "      <td>sirajnoorani</td>\n",
       "      <td>#COVID19 UP CM Yogi Adityanath directs officia...</td>\n",
       "      <td>2020-05-02 19:05:14+00:00</td>\n",
       "      <td>0</td>\n",
       "      <td>0</td>\n",
       "      <td>#COVID19</td>\n",
       "      <td>Mumbai</td>\n",
       "    </tr>\n",
       "  </tbody>\n",
       "</table>\n",
       "</div>"
      ],
      "text/plain": [
       "              User                                               Text  \\\n",
       "0       NikhilMRoy  I am pleased to share that I have passed and c...   \n",
       "1       satraparth  #COVID19 lockdown has affected various sectors...   \n",
       "2  iampawannathani  #covid19 will need to be fought through, it ca...   \n",
       "3  iampawannathani  #Lockdown3 @PMOIndia If #COVID19 is here to st...   \n",
       "4     sirajnoorani  #COVID19 UP CM Yogi Adityanath directs officia...   \n",
       "\n",
       "                        Date  Retweets  Favorites  \\\n",
       "0  2020-05-02 23:42:40+00:00         0          1   \n",
       "1  2020-05-02 20:41:13+00:00         0          0   \n",
       "2  2020-05-02 19:08:02+00:00         0          1   \n",
       "3  2020-05-02 19:07:59+00:00         1          3   \n",
       "4  2020-05-02 19:05:14+00:00         0          0   \n",
       "\n",
       "                                            HashTags    City  \n",
       "0  #weekenddoneright #PSM #scrum #scrummaster #ac...  Mumbai  \n",
       "1                 #COVID19 #pandemic #MSME #lockdown  Mumbai  \n",
       "2              #covid19 #Warzone #FightAgainstCorona  Mumbai  \n",
       "3                         #Lockdown3 #COVID19 #India  Mumbai  \n",
       "4                                           #COVID19  Mumbai  "
      ]
     },
     "execution_count": 2,
     "metadata": {},
     "output_type": "execute_result"
    }
   ],
   "source": [
    "#lockdown1 Duration- 20th March to 14th April\n",
    "df=pd.read_csv(\"covid2.csv\")\n",
    "df.info()\n",
    "df.head()"
   ]
  },
  {
   "cell_type": "markdown",
   "metadata": {},
   "source": [
    "# Cleaning"
   ]
  },
  {
   "cell_type": "code",
   "execution_count": 3,
   "metadata": {},
   "outputs": [],
   "source": [
    "def clean_tweet(tweet):\n",
    "    return ' '.join(re.sub('(@[A-Za-z0-9]+)|([^0-9A-Za-z \\t])|(\\w+:\\/\\/\\S+)', ' ', tweet).split())"
   ]
  },
  {
   "cell_type": "code",
   "execution_count": 4,
   "metadata": {},
   "outputs": [],
   "source": [
    "df['clean_tweet'] = df['Text'].apply(lambda x: clean_tweet(x))\n",
    "df.head()\n",
    "df.to_csv('covidclean1.csv',index=False)"
   ]
  },
  {
   "cell_type": "code",
   "execution_count": 5,
   "metadata": {},
   "outputs": [
    {
     "data": {
      "text/html": [
       "<div>\n",
       "<style scoped>\n",
       "    .dataframe tbody tr th:only-of-type {\n",
       "        vertical-align: middle;\n",
       "    }\n",
       "\n",
       "    .dataframe tbody tr th {\n",
       "        vertical-align: top;\n",
       "    }\n",
       "\n",
       "    .dataframe thead th {\n",
       "        text-align: right;\n",
       "    }\n",
       "</style>\n",
       "<table border=\"1\" class=\"dataframe\">\n",
       "  <thead>\n",
       "    <tr style=\"text-align: right;\">\n",
       "      <th></th>\n",
       "      <th>User</th>\n",
       "      <th>Text</th>\n",
       "      <th>Date</th>\n",
       "      <th>Retweets</th>\n",
       "      <th>Favorites</th>\n",
       "      <th>HashTags</th>\n",
       "      <th>City</th>\n",
       "      <th>clean_tweet</th>\n",
       "    </tr>\n",
       "  </thead>\n",
       "  <tbody>\n",
       "    <tr>\n",
       "      <th>0</th>\n",
       "      <td>NikhilMRoy</td>\n",
       "      <td>I am pleased to share that I have passed and c...</td>\n",
       "      <td>2020-05-02 23:42:40+00:00</td>\n",
       "      <td>0</td>\n",
       "      <td>1</td>\n",
       "      <td>#weekenddoneright #PSM #scrum #scrummaster #ac...</td>\n",
       "      <td>Mumbai</td>\n",
       "      <td>I am pleased to share that I have passed and c...</td>\n",
       "    </tr>\n",
       "    <tr>\n",
       "      <th>1</th>\n",
       "      <td>satraparth</td>\n",
       "      <td>#COVID19 lockdown has affected various sectors...</td>\n",
       "      <td>2020-05-02 20:41:13+00:00</td>\n",
       "      <td>0</td>\n",
       "      <td>0</td>\n",
       "      <td>#COVID19 #pandemic #MSME #lockdown</td>\n",
       "      <td>Mumbai</td>\n",
       "      <td>COVID19 lockdown has affected various sectors ...</td>\n",
       "    </tr>\n",
       "    <tr>\n",
       "      <th>2</th>\n",
       "      <td>iampawannathani</td>\n",
       "      <td>#covid19 will need to be fought through, it ca...</td>\n",
       "      <td>2020-05-02 19:08:02+00:00</td>\n",
       "      <td>0</td>\n",
       "      <td>1</td>\n",
       "      <td>#covid19 #Warzone #FightAgainstCorona</td>\n",
       "      <td>Mumbai</td>\n",
       "      <td>covid19 will need to be fought through it cann...</td>\n",
       "    </tr>\n",
       "    <tr>\n",
       "      <th>3</th>\n",
       "      <td>iampawannathani</td>\n",
       "      <td>#Lockdown3 @PMOIndia If #COVID19 is here to st...</td>\n",
       "      <td>2020-05-02 19:07:59+00:00</td>\n",
       "      <td>1</td>\n",
       "      <td>3</td>\n",
       "      <td>#Lockdown3 #COVID19 #India</td>\n",
       "      <td>Mumbai</td>\n",
       "      <td>Lockdown3 If COVID19 is here to stay for long ...</td>\n",
       "    </tr>\n",
       "    <tr>\n",
       "      <th>4</th>\n",
       "      <td>sirajnoorani</td>\n",
       "      <td>#COVID19 UP CM Yogi Adityanath directs officia...</td>\n",
       "      <td>2020-05-02 19:05:14+00:00</td>\n",
       "      <td>0</td>\n",
       "      <td>0</td>\n",
       "      <td>#COVID19</td>\n",
       "      <td>Mumbai</td>\n",
       "      <td>COVID19 UP CM Yogi Adityanath directs official...</td>\n",
       "    </tr>\n",
       "    <tr>\n",
       "      <th>...</th>\n",
       "      <td>...</td>\n",
       "      <td>...</td>\n",
       "      <td>...</td>\n",
       "      <td>...</td>\n",
       "      <td>...</td>\n",
       "      <td>...</td>\n",
       "      <td>...</td>\n",
       "      <td>...</td>\n",
       "    </tr>\n",
       "    <tr>\n",
       "      <th>1996</th>\n",
       "      <td>aanondo</td>\n",
       "      <td>If data is generated, consumed and recorded wi...</td>\n",
       "      <td>2020-04-20 15:26:17+00:00</td>\n",
       "      <td>0</td>\n",
       "      <td>0</td>\n",
       "      <td>#COVID19</td>\n",
       "      <td>Delhi</td>\n",
       "      <td>If data is generated consumed and recorded wit...</td>\n",
       "    </tr>\n",
       "    <tr>\n",
       "      <th>1997</th>\n",
       "      <td>sidhant</td>\n",
       "      <td>First ever e-@ITECnetwork training programme o...</td>\n",
       "      <td>2020-04-20 15:26:02+00:00</td>\n",
       "      <td>8</td>\n",
       "      <td>19</td>\n",
       "      <td>#COVID19</td>\n",
       "      <td>Delhi</td>\n",
       "      <td>First ever e training programme on COVID19 Man...</td>\n",
       "    </tr>\n",
       "    <tr>\n",
       "      <th>1998</th>\n",
       "      <td>SBM_4007</td>\n",
       "      <td>#COVID19 update: India crosses 3000 recoveries...</td>\n",
       "      <td>2020-04-20 15:24:43+00:00</td>\n",
       "      <td>3</td>\n",
       "      <td>4</td>\n",
       "      <td>#COVID19 #IndiaFightsCorona</td>\n",
       "      <td>Delhi</td>\n",
       "      <td>COVID19 update India crosses 3000 recoveries F...</td>\n",
       "    </tr>\n",
       "    <tr>\n",
       "      <th>1999</th>\n",
       "      <td>HealthwireMedia</td>\n",
       "      <td>#WUD Takes Initiative In Fight Against #COVID1...</td>\n",
       "      <td>2020-04-20 15:15:09+00:00</td>\n",
       "      <td>3</td>\n",
       "      <td>4</td>\n",
       "      <td>#WUD #COVID19 #PPE</td>\n",
       "      <td>Delhi</td>\n",
       "      <td>WUD Takes Initiative In Fight Against COVID19 ...</td>\n",
       "    </tr>\n",
       "    <tr>\n",
       "      <th>2000</th>\n",
       "      <td>satyaprad1</td>\n",
       "      <td>#Infodemic or deliberate #misinformation durin...</td>\n",
       "      <td>2020-04-20 14:49:45+00:00</td>\n",
       "      <td>11</td>\n",
       "      <td>20</td>\n",
       "      <td>#Infodemic #misinformation #COVID19</td>\n",
       "      <td>Delhi</td>\n",
       "      <td>Infodemic or deliberate misinformation during ...</td>\n",
       "    </tr>\n",
       "  </tbody>\n",
       "</table>\n",
       "<p>2001 rows × 8 columns</p>\n",
       "</div>"
      ],
      "text/plain": [
       "                 User                                               Text  \\\n",
       "0          NikhilMRoy  I am pleased to share that I have passed and c...   \n",
       "1          satraparth  #COVID19 lockdown has affected various sectors...   \n",
       "2     iampawannathani  #covid19 will need to be fought through, it ca...   \n",
       "3     iampawannathani  #Lockdown3 @PMOIndia If #COVID19 is here to st...   \n",
       "4        sirajnoorani  #COVID19 UP CM Yogi Adityanath directs officia...   \n",
       "...               ...                                                ...   \n",
       "1996          aanondo  If data is generated, consumed and recorded wi...   \n",
       "1997          sidhant  First ever e-@ITECnetwork training programme o...   \n",
       "1998         SBM_4007  #COVID19 update: India crosses 3000 recoveries...   \n",
       "1999  HealthwireMedia  #WUD Takes Initiative In Fight Against #COVID1...   \n",
       "2000       satyaprad1  #Infodemic or deliberate #misinformation durin...   \n",
       "\n",
       "                           Date  Retweets  Favorites  \\\n",
       "0     2020-05-02 23:42:40+00:00         0          1   \n",
       "1     2020-05-02 20:41:13+00:00         0          0   \n",
       "2     2020-05-02 19:08:02+00:00         0          1   \n",
       "3     2020-05-02 19:07:59+00:00         1          3   \n",
       "4     2020-05-02 19:05:14+00:00         0          0   \n",
       "...                         ...       ...        ...   \n",
       "1996  2020-04-20 15:26:17+00:00         0          0   \n",
       "1997  2020-04-20 15:26:02+00:00         8         19   \n",
       "1998  2020-04-20 15:24:43+00:00         3          4   \n",
       "1999  2020-04-20 15:15:09+00:00         3          4   \n",
       "2000  2020-04-20 14:49:45+00:00        11         20   \n",
       "\n",
       "                                               HashTags    City  \\\n",
       "0     #weekenddoneright #PSM #scrum #scrummaster #ac...  Mumbai   \n",
       "1                    #COVID19 #pandemic #MSME #lockdown  Mumbai   \n",
       "2                 #covid19 #Warzone #FightAgainstCorona  Mumbai   \n",
       "3                            #Lockdown3 #COVID19 #India  Mumbai   \n",
       "4                                              #COVID19  Mumbai   \n",
       "...                                                 ...     ...   \n",
       "1996                                           #COVID19   Delhi   \n",
       "1997                                           #COVID19   Delhi   \n",
       "1998                        #COVID19 #IndiaFightsCorona   Delhi   \n",
       "1999                                 #WUD #COVID19 #PPE   Delhi   \n",
       "2000                #Infodemic #misinformation #COVID19   Delhi   \n",
       "\n",
       "                                            clean_tweet  \n",
       "0     I am pleased to share that I have passed and c...  \n",
       "1     COVID19 lockdown has affected various sectors ...  \n",
       "2     covid19 will need to be fought through it cann...  \n",
       "3     Lockdown3 If COVID19 is here to stay for long ...  \n",
       "4     COVID19 UP CM Yogi Adityanath directs official...  \n",
       "...                                                 ...  \n",
       "1996  If data is generated consumed and recorded wit...  \n",
       "1997  First ever e training programme on COVID19 Man...  \n",
       "1998  COVID19 update India crosses 3000 recoveries F...  \n",
       "1999  WUD Takes Initiative In Fight Against COVID19 ...  \n",
       "2000  Infodemic or deliberate misinformation during ...  \n",
       "\n",
       "[2001 rows x 8 columns]"
      ]
     },
     "execution_count": 5,
     "metadata": {},
     "output_type": "execute_result"
    }
   ],
   "source": [
    "data = pd.read_csv('covidclean1.csv')\n",
    "data= data.iloc[0:2001,]\n",
    "data\n"
   ]
  },
  {
   "cell_type": "markdown",
   "metadata": {},
   "source": [
    "# IBM Tone Analyser"
   ]
  },
  {
   "cell_type": "code",
   "execution_count": 21,
   "metadata": {},
   "outputs": [],
   "source": [
    "authenticator = IAMAuthenticator('iY-jyXKEwdMyEJvLigD3kRGUoN2ZNjjqwOUp0pxOzuQu')\n",
    "tone_analyzer = ToneAnalyzerV3(\n",
    "    version='2017-09-21',\n",
    "    authenticator=authenticator\n",
    ")\n",
    "\n",
    "tone_analyzer.set_service_url('https://api.eu-gb.tone-analyzer.watson.cloud.ibm.com/instances/416622a0-5faa-4efd-8868-a0318d2167bd')\n",
    "tone_analyzer.set_disable_ssl_verification(False)"
   ]
  },
  {
   "cell_type": "code",
   "execution_count": null,
   "metadata": {},
   "outputs": [],
   "source": [
    "tones = []\n",
    "index = 0\n",
    "for item in data['clean_tweet']:\n",
    "    try:\n",
    "        index = index + 1\n",
    "        text = item\n",
    "        tone_analysis = tone_analyzer.tone({'text': text}, content_type='application/json').get_result()\n",
    "        tones.append(tone_analysis)\n",
    "    except ApiException as ex:\n",
    "        tones.append(None)\n",
    "        print (\"Method failed with status code \" + str(ex.code) + \": \" + ex.message)"
   ]
  },
  {
   "cell_type": "code",
   "execution_count": null,
   "metadata": {},
   "outputs": [],
   "source": [
    "tones_copy = tones.copy()\n",
    "tones_copy = pd.DataFrame(tones_copy)"
   ]
  },
  {
   "cell_type": "code",
   "execution_count": null,
   "metadata": {},
   "outputs": [],
   "source": [
    "tones_copy.head()"
   ]
  },
  {
   "cell_type": "code",
   "execution_count": null,
   "metadata": {},
   "outputs": [],
   "source": [
    "data = data.reset_index()"
   ]
  },
  {
   "cell_type": "code",
   "execution_count": null,
   "metadata": {},
   "outputs": [],
   "source": [
    "data = data.drop(['index'], axis=1)"
   ]
  },
  {
   "cell_type": "code",
   "execution_count": null,
   "metadata": {},
   "outputs": [],
   "source": [
    "data = pd.concat([data,tones_copy],axis=1)\n",
    "data.to_csv('covid2_4000_lock2.csv',index=False)"
   ]
  },
  {
   "cell_type": "markdown",
   "metadata": {},
   "source": [
    "# Formatting the document tones"
   ]
  },
  {
   "cell_type": "code",
   "execution_count": null,
   "metadata": {},
   "outputs": [],
   "source": [
    "data = pd.read_csv('covid2_4000_lock2.csv')\n",
    "data.head()"
   ]
  },
  {
   "cell_type": "code",
   "execution_count": null,
   "metadata": {},
   "outputs": [],
   "source": [
    "data = data.iloc[:,1:26]"
   ]
  },
  {
   "cell_type": "code",
   "execution_count": null,
   "metadata": {},
   "outputs": [],
   "source": [
    "data['document_tones'] = data.document_tone.apply(lambda x: ast.literal_eval(x)['tones'])\n",
    "data.drop('document_tone',axis = 1,inplace = True)"
   ]
  },
  {
   "cell_type": "code",
   "execution_count": null,
   "metadata": {},
   "outputs": [],
   "source": [
    "# split sentiments in corresponding columns\n",
    "for i in range(0, len(data)):\n",
    "    for j in range(0, len(data.loc[i, 'document_tones'])):\n",
    "        dic = data.loc[i, 'document_tones'][j]\n",
    "        source = dic['tone_id']\n",
    "        data.loc[i, source] = 1\n",
    "data.head()"
   ]
  },
  {
   "cell_type": "code",
   "execution_count": null,
   "metadata": {},
   "outputs": [],
   "source": [
    "\n",
    "data.to_csv('covid2_2000_lock2_sentiment.csv',index=False)"
   ]
  },
  {
   "cell_type": "markdown",
   "metadata": {},
   "source": [
    "# First 500 sentiments \n",
    "## Analytical ,joy, sadness, tentative, confident, anger, fear (Lockdown 1)"
   ]
  },
  {
   "cell_type": "code",
   "execution_count": null,
   "metadata": {},
   "outputs": [],
   "source": [
    "data"
   ]
  },
  {
   "cell_type": "markdown",
   "metadata": {},
   "source": [
    "# Combining all datasets with tones analyzed by IBM "
   ]
  },
  {
   "cell_type": "code",
   "execution_count": 19,
   "metadata": {},
   "outputs": [],
   "source": [
    "path = r'E:\\COVID\\Twitter Data for IBM\\clean sentiments IBM\\\\'\n",
    "files = os.listdir(path)"
   ]
  },
  {
   "cell_type": "code",
   "execution_count": 22,
   "metadata": {},
   "outputs": [
    {
     "data": {
      "text/plain": [
       "['covid1_1000_lock1_sentiment.csv',\n",
       " 'covid1_1500_lock1_sentiment.csv',\n",
       " 'covid1_2500_lock1_sentiment.csv',\n",
       " 'covid1_4500_lock1_sentiment.csv',\n",
       " 'covid1_500_lock1_sentiment.csv',\n",
       " 'covid1_5500_lock1_sentiment.csv',\n",
       " 'covid1_7500_lock1sentiment.csv',\n",
       " 'covid1_last_lock1sentiment.csv',\n",
       " 'covid2_2000_lock2_sentiment.csv',\n",
       " 'covid2_4000_lock2_sentiment.csv',\n",
       " 'covid2_4549_lock2_sentiment.csv',\n",
       " 'covid3_1724_lock3_sentiment.csv',\n",
       " 'covid3_3451_lock3_sentiment.csv',\n",
       " 'covid4_1103_lock4_sentiment.csv',\n",
       " 'covid4_2207_lock4_sentiment.csv']"
      ]
     },
     "execution_count": 22,
     "metadata": {},
     "output_type": "execute_result"
    }
   ],
   "source": [
    "files"
   ]
  },
  {
   "cell_type": "code",
   "execution_count": 23,
   "metadata": {},
   "outputs": [],
   "source": [
    "covid_twitter_data = pd.DataFrame()\n",
    "# Concat the Twitters data into one-table\n",
    "for file in files:\n",
    "    try:\n",
    "        data = pd.read_csv(str(path) + file)\n",
    "    except:\n",
    "        data = pd.read_csv(str(path) + file,encoding='cp1252')\n",
    "    covid_twitter_data = covid_twitter_data.append(data, ignore_index=True)"
   ]
  },
  {
   "cell_type": "code",
   "execution_count": 24,
   "metadata": {},
   "outputs": [
    {
     "data": {
      "text/plain": [
       "435.0"
      ]
     },
     "execution_count": 24,
     "metadata": {},
     "output_type": "execute_result"
    }
   ],
   "source": [
    "covid_twitter_data['fear'].sum()"
   ]
  },
  {
   "cell_type": "code",
   "execution_count": 25,
   "metadata": {},
   "outputs": [],
   "source": [
    "# Save the dataset\n",
    "covid_twitter_data.to_csv('sentimentIBMfull.csv',index=False)\n"
   ]
  },
  {
   "cell_type": "code",
   "execution_count": 26,
   "metadata": {},
   "outputs": [
    {
     "data": {
      "text/html": [
       "<div>\n",
       "<style scoped>\n",
       "    .dataframe tbody tr th:only-of-type {\n",
       "        vertical-align: middle;\n",
       "    }\n",
       "\n",
       "    .dataframe tbody tr th {\n",
       "        vertical-align: top;\n",
       "    }\n",
       "\n",
       "    .dataframe thead th {\n",
       "        text-align: right;\n",
       "    }\n",
       "</style>\n",
       "<table border=\"1\" class=\"dataframe\">\n",
       "  <thead>\n",
       "    <tr style=\"text-align: right;\">\n",
       "      <th></th>\n",
       "      <th>Text</th>\n",
       "      <th>Date</th>\n",
       "      <th>Retweets</th>\n",
       "      <th>Favorites</th>\n",
       "      <th>HashTags</th>\n",
       "      <th>City</th>\n",
       "      <th>clean_tweet</th>\n",
       "      <th>document_tones</th>\n",
       "      <th>joy</th>\n",
       "      <th>sadness</th>\n",
       "      <th>confident</th>\n",
       "      <th>analytical</th>\n",
       "      <th>tentative</th>\n",
       "      <th>anger</th>\n",
       "      <th>fear</th>\n",
       "    </tr>\n",
       "  </thead>\n",
       "  <tbody>\n",
       "    <tr>\n",
       "      <th>0</th>\n",
       "      <td>Stone “Chilled” Steve Austin, is in the house....</td>\n",
       "      <td>2020-04-04 10:23:04+00:00</td>\n",
       "      <td>3</td>\n",
       "      <td>12</td>\n",
       "      <td>#stonecoldsteveaustin #lockdown #meme #fun #co...</td>\n",
       "      <td>Mumbai</td>\n",
       "      <td>Stone Chilled Steve Austin is in the house No ...</td>\n",
       "      <td>[{'score': 0.844069, 'tone_id': 'joy', 'tone_n...</td>\n",
       "      <td>1.0</td>\n",
       "      <td>NaN</td>\n",
       "      <td>NaN</td>\n",
       "      <td>NaN</td>\n",
       "      <td>NaN</td>\n",
       "      <td>NaN</td>\n",
       "      <td>NaN</td>\n",
       "    </tr>\n",
       "    <tr>\n",
       "      <th>1</th>\n",
       "      <td>Long run was must do activity in weekends for ...</td>\n",
       "      <td>2020-04-04 08:58:48+00:00</td>\n",
       "      <td>0</td>\n",
       "      <td>4</td>\n",
       "      <td>#lockdown #covid19 #fit4life</td>\n",
       "      <td>Mumbai</td>\n",
       "      <td>Long run was must do activity in weekends for ...</td>\n",
       "      <td>[{'score': 0.584247, 'tone_id': 'joy', 'tone_n...</td>\n",
       "      <td>1.0</td>\n",
       "      <td>NaN</td>\n",
       "      <td>NaN</td>\n",
       "      <td>NaN</td>\n",
       "      <td>NaN</td>\n",
       "      <td>NaN</td>\n",
       "      <td>NaN</td>\n",
       "    </tr>\n",
       "    <tr>\n",
       "      <th>2</th>\n",
       "      <td>A 51-year-old #COVID19 positive patient who at...</td>\n",
       "      <td>2020-04-04 08:33:10+00:00</td>\n",
       "      <td>0</td>\n",
       "      <td>1</td>\n",
       "      <td>#COVID19</td>\n",
       "      <td>Mumbai</td>\n",
       "      <td>A 51 year old COVID19 positive patient who att...</td>\n",
       "      <td>[{'score': 0.708308, 'tone_id': 'sadness', 'to...</td>\n",
       "      <td>NaN</td>\n",
       "      <td>1.0</td>\n",
       "      <td>1.0</td>\n",
       "      <td>NaN</td>\n",
       "      <td>NaN</td>\n",
       "      <td>NaN</td>\n",
       "      <td>NaN</td>\n",
       "    </tr>\n",
       "    <tr>\n",
       "      <th>3</th>\n",
       "      <td>We are going through a tough time. It is very ...</td>\n",
       "      <td>2020-04-04 08:31:33+00:00</td>\n",
       "      <td>1</td>\n",
       "      <td>1</td>\n",
       "      <td>#Coronavirus #StayStrong #Covid19 #PMCaresFund</td>\n",
       "      <td>Mumbai</td>\n",
       "      <td>We are going through a tough time It is very c...</td>\n",
       "      <td>[{'score': 0.605143, 'tone_id': 'confident', '...</td>\n",
       "      <td>NaN</td>\n",
       "      <td>NaN</td>\n",
       "      <td>1.0</td>\n",
       "      <td>NaN</td>\n",
       "      <td>NaN</td>\n",
       "      <td>NaN</td>\n",
       "      <td>NaN</td>\n",
       "    </tr>\n",
       "    <tr>\n",
       "      <th>4</th>\n",
       "      <td>#DeepikaPadukone and #RanveerSingh to contribu...</td>\n",
       "      <td>2020-04-04 08:27:33+00:00</td>\n",
       "      <td>0</td>\n",
       "      <td>1</td>\n",
       "      <td>#DeepikaPadukone #RanveerSingh #PMCaresFund #C...</td>\n",
       "      <td>Mumbai</td>\n",
       "      <td>DeepikaPadukone and RanveerSingh to contribute...</td>\n",
       "      <td>[{'score': 0.620279, 'tone_id': 'analytical', ...</td>\n",
       "      <td>NaN</td>\n",
       "      <td>NaN</td>\n",
       "      <td>NaN</td>\n",
       "      <td>1.0</td>\n",
       "      <td>NaN</td>\n",
       "      <td>NaN</td>\n",
       "      <td>NaN</td>\n",
       "    </tr>\n",
       "  </tbody>\n",
       "</table>\n",
       "</div>"
      ],
      "text/plain": [
       "                                                Text  \\\n",
       "0  Stone “Chilled” Steve Austin, is in the house....   \n",
       "1  Long run was must do activity in weekends for ...   \n",
       "2  A 51-year-old #COVID19 positive patient who at...   \n",
       "3  We are going through a tough time. It is very ...   \n",
       "4  #DeepikaPadukone and #RanveerSingh to contribu...   \n",
       "\n",
       "                        Date  Retweets  Favorites  \\\n",
       "0  2020-04-04 10:23:04+00:00         3         12   \n",
       "1  2020-04-04 08:58:48+00:00         0          4   \n",
       "2  2020-04-04 08:33:10+00:00         0          1   \n",
       "3  2020-04-04 08:31:33+00:00         1          1   \n",
       "4  2020-04-04 08:27:33+00:00         0          1   \n",
       "\n",
       "                                            HashTags    City  \\\n",
       "0  #stonecoldsteveaustin #lockdown #meme #fun #co...  Mumbai   \n",
       "1                       #lockdown #covid19 #fit4life  Mumbai   \n",
       "2                                           #COVID19  Mumbai   \n",
       "3     #Coronavirus #StayStrong #Covid19 #PMCaresFund  Mumbai   \n",
       "4  #DeepikaPadukone #RanveerSingh #PMCaresFund #C...  Mumbai   \n",
       "\n",
       "                                         clean_tweet  \\\n",
       "0  Stone Chilled Steve Austin is in the house No ...   \n",
       "1  Long run was must do activity in weekends for ...   \n",
       "2  A 51 year old COVID19 positive patient who att...   \n",
       "3  We are going through a tough time It is very c...   \n",
       "4  DeepikaPadukone and RanveerSingh to contribute...   \n",
       "\n",
       "                                      document_tones  joy  sadness  confident  \\\n",
       "0  [{'score': 0.844069, 'tone_id': 'joy', 'tone_n...  1.0      NaN        NaN   \n",
       "1  [{'score': 0.584247, 'tone_id': 'joy', 'tone_n...  1.0      NaN        NaN   \n",
       "2  [{'score': 0.708308, 'tone_id': 'sadness', 'to...  NaN      1.0        1.0   \n",
       "3  [{'score': 0.605143, 'tone_id': 'confident', '...  NaN      NaN        1.0   \n",
       "4  [{'score': 0.620279, 'tone_id': 'analytical', ...  NaN      NaN        NaN   \n",
       "\n",
       "   analytical  tentative  anger  fear  \n",
       "0         NaN        NaN    NaN   NaN  \n",
       "1         NaN        NaN    NaN   NaN  \n",
       "2         NaN        NaN    NaN   NaN  \n",
       "3         NaN        NaN    NaN   NaN  \n",
       "4         1.0        NaN    NaN   NaN  "
      ]
     },
     "execution_count": 26,
     "metadata": {},
     "output_type": "execute_result"
    }
   ],
   "source": [
    "covid_twitter_data.head()"
   ]
  },
  {
   "cell_type": "code",
   "execution_count": null,
   "metadata": {},
   "outputs": [],
   "source": []
  }
 ],
 "metadata": {
  "kernelspec": {
   "display_name": "Python 3",
   "language": "python",
   "name": "python3"
  },
  "language_info": {
   "codemirror_mode": {
    "name": "ipython",
    "version": 3
   },
   "file_extension": ".py",
   "mimetype": "text/x-python",
   "name": "python",
   "nbconvert_exporter": "python",
   "pygments_lexer": "ipython3",
   "version": "3.8.3"
  }
 },
 "nbformat": 4,
 "nbformat_minor": 4
}
