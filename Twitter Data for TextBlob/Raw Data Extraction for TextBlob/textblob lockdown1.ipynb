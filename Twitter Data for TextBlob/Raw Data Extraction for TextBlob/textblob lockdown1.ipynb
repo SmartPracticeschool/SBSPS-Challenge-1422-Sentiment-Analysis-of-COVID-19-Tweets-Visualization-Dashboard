{
 "cells": [
  {
   "cell_type": "code",
   "execution_count": 1,
   "metadata": {},
   "outputs": [],
   "source": [
    "import pandas as pd\n",
    "import numpy as np\n",
    "import re\n",
    "from pprint import pprint\n",
    "from datetime import datetime\n",
    "\n",
    "#scraping\n",
    "import GetOldTweets3 as got\n",
    "import time\n",
    "\n",
    "#plotting\n",
    "import matplotlib.pyplot as plt\n",
    "import seaborn as sns\n",
    "%matplotlib inline"
   ]
  },
  {
   "cell_type": "code",
   "execution_count": 2,
   "metadata": {},
   "outputs": [],
   "source": [
    "def get_tweets(text_query, start_date, end_date, lang, location, within):\n",
    "   \n",
    "    # specifying tweet search criteria \n",
    "    tweetCriteria = got.manager.TweetCriteria().setQuerySearch(text_query)\\\n",
    "                          .setSince(start_date)\\\n",
    "                          .setUntil(end_date)\\\n",
    "                          .setLang(lang)\\\n",
    "                          .setNear(location)\\\n",
    "                          .setWithin(within)\n",
    "    \n",
    "    # scraping tweets based on criteria\n",
    "    tweet = got.manager.TweetManager.getTweets(tweetCriteria)\n",
    "    \n",
    "    # creating list of tweets with the tweet attributes \n",
    "    # specified in the list comprehension\n",
    "    text_tweets = [[tw.username,\n",
    "                tw.text,\n",
    "                tw.date,\n",
    "                tw.retweets,\n",
    "                tw.favorites,\n",
    "                tw.hashtags] for tw in tweet]\n",
    "    \n",
    "    # creating dataframe, assigning column names to list of\n",
    "    # tweets corresponding to tweet attributes\n",
    "    tw_df = pd.DataFrame(text_tweets, \n",
    "                         columns = ['User', 'Text', 'Date', 'Retweets', 'Favorites', 'HashTags'])\n",
    "    \n",
    "    return tw_df"
   ]
  },
  {
   "cell_type": "code",
   "execution_count": 3,
   "metadata": {},
   "outputs": [],
   "source": [
    "# set attributes needed for get_tweets\n",
    "text_query = '#Covid19'\n",
    "start_date = '2020-03-20'\n",
    "end_date = '2020-04-14'\n",
    "lang = 'en'\n",
    "within = '50mi'\n",
    "citys = ['Mumbai,India','Delhi ,India', 'Kolkata, India', 'Chennai, India','Bangalore, India', 'Hyderabad, India','Ahmadabad, India', 'Pune, India', 'Surat, India', 'Kanpur, India','Jaipur,India', 'Nagpur,India','Visakhapatnam,India' ]\n",
    "#citys = ['New York City, New York']#,'Boston, Massachusetts','Chicago, Illinois','Detroit, Michigan','Los Angeles, California','Houston, Texas','Newark, New Jersey','Miami, Florida','Philadelphia, Pennsylvania','New Orleans, Louisiana']"
   ]
  },
  {
   "cell_type": "code",
   "execution_count": 4,
   "metadata": {},
   "outputs": [],
   "source": [
    "\n",
    "# scrap needed info and export to csv file\n",
    "for city in citys:\n",
    "    location = city\n",
    "    df = get_tweets(text_query, start_date, end_date, lang, location, within)\n",
    "    df.to_csv(city + '.csv', index = False)\n",
    "    time.sleep(120)"
   ]
  },
  {
   "cell_type": "code",
   "execution_count": 9,
   "metadata": {},
   "outputs": [],
   "source": [
    "# add 'City' column and combine all datasets\n",
    "city_column = ['Mumbai', 'Delhi', 'Kolkata', 'Chennai','Bangalore', 'Hyderabad','Ahmadabad', 'Pune', 'Surat', 'Kanpur','Jaipur','Nagpur','Visakhapatnam']\n",
    "covid1 = pd.DataFrame()\n",
    "for i in range(len(city_column)):\n",
    "    df = pd.read_csv(citys[i] + '.csv')\n",
    "    df['City'] = city_column[i]\n",
    "    covid1 = pd.concat([covid1, df], axis = 0)"
   ]
  },
  {
   "cell_type": "code",
   "execution_count": 10,
   "metadata": {},
   "outputs": [],
   "source": [
    "# export our raw data\n",
    "covid1.to_csv('D:\\Winter2020\\covid1.csv', index = False)"
   ]
  }
 ],
 "metadata": {
  "kernelspec": {
   "display_name": "Python 3",
   "language": "python",
   "name": "python3"
  },
  "language_info": {
   "codemirror_mode": {
    "name": "ipython",
    "version": 3
   },
   "file_extension": ".py",
   "mimetype": "text/x-python",
   "name": "python",
   "nbconvert_exporter": "python",
   "pygments_lexer": "ipython3",
   "version": "3.7.4"
  }
 },
 "nbformat": 4,
 "nbformat_minor": 2
}
